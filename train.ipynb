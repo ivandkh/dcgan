{
 "cells": [
  {
   "cell_type": "code",
   "execution_count": null,
   "id": "d164b36f-0245-442a-8f55-dd12825b462b",
   "metadata": {},
   "outputs": [],
   "source": [
    "from datamodule import FMNISTDataModule\n",
    "from model import GAN\n",
    "import pytorch_lightning as pl"
   ]
  },
  {
   "cell_type": "code",
   "execution_count": null,
   "id": "e703febd-5f57-4cf4-9262-a30488cb40f3",
   "metadata": {},
   "outputs": [],
   "source": [
    "pl.__version__"
   ]
  },
  {
   "cell_type": "code",
   "execution_count": null,
   "id": "2be7075a-981a-448c-966b-ce03bbfbc667",
   "metadata": {},
   "outputs": [],
   "source": [
    "dm = FMNISTDataModule()\n",
    "model = GAN()"
   ]
  },
  {
   "cell_type": "code",
   "execution_count": null,
   "id": "8eddf80c-d180-4bfa-a7b9-ff30e64d3184",
   "metadata": {},
   "outputs": [],
   "source": [
    "pbar = pl.callbacks.progress.TQDMProgressBar()\n",
    "trainer = pl.Trainer(max_epochs=5, gpus=1, val_check_interval=0, callbacks=[pbar])"
   ]
  },
  {
   "cell_type": "code",
   "execution_count": null,
   "id": "3dcab83b-4167-4e7f-9b24-2d701a02163b",
   "metadata": {},
   "outputs": [],
   "source": [
    "trainer.fit(model, dm)"
   ]
  },
  {
   "cell_type": "code",
   "execution_count": null,
   "id": "683cca32-00f2-40a2-ae06-f7c82889c665",
   "metadata": {},
   "outputs": [],
   "source": []
  }
 ],
 "metadata": {
  "kernelspec": {
   "display_name": "Python 3 (ipykernel)",
   "language": "python",
   "name": "python3"
  },
  "language_info": {
   "codemirror_mode": {
    "name": "ipython",
    "version": 3
   },
   "file_extension": ".py",
   "mimetype": "text/x-python",
   "name": "python",
   "nbconvert_exporter": "python",
   "pygments_lexer": "ipython3",
   "version": "3.8.10"
  }
 },
 "nbformat": 4,
 "nbformat_minor": 5
}
